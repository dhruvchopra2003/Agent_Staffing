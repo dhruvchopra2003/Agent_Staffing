{
  "nbformat": 4,
  "nbformat_minor": 0,
  "metadata": {
    "colab": {
      "provenance": [],
      "include_colab_link": true
    },
    "kernelspec": {
      "name": "python3",
      "display_name": "Python 3"
    },
    "language_info": {
      "name": "python"
    }
  },
  "cells": [
    {
      "cell_type": "markdown",
      "metadata": {
        "id": "view-in-github",
        "colab_type": "text"
      },
      "source": [
        "<a href=\"https://colab.research.google.com/github/dhruvchopra2003/Agent_Staffing/blob/main/Agent_Staffing.ipynb\" target=\"_parent\"><img src=\"https://colab.research.google.com/assets/colab-badge.svg\" alt=\"Open In Colab\"/></a>"
      ]
    },
    {
      "cell_type": "code",
      "source": [
        "!pip install -q -U pyomo\n",
        "!apt-get install -y -qq glpk-utils"
      ],
      "metadata": {
        "id": "dwwFfLSJbxAX"
      },
      "execution_count": 14,
      "outputs": []
    },
    {
      "cell_type": "code",
      "source": [
        "num_shifts = 4  # Number of shifts in a day\n",
        "time_slots_per_shift = 6  # Number of time slots per shift\n",
        "time_slots = range(num_shifts * time_slots_per_shift)  # 24 hours in a day\n",
        "call_volume_forecast = [50, 40, 45, 30, 25, 20, 15, 10,\n",
        "                        20, 30, 40, 50, 60, 70, 80, 90,\n",
        "                        90, 10, 100, 70, 40, 50, 60, 70]  # Example forecast\n",
        "cost_per_agent = 100  # $20 per agent per shift\n",
        "max_agents_per_shift = 10  # Maximum number of agents allowed per shift\n",
        "total_budget = 15000\n",
        "income_per_call = 15  # Income generated per call answered, Also used as a measure of the agent's capability to handle calls\n"
      ],
      "metadata": {
        "id": "WDlSvOG3e0XH"
      },
      "execution_count": 29,
      "outputs": []
    },
    {
      "cell_type": "code",
      "source": [
        "from pyomo.environ import *\n",
        "\n",
        "# Create a model\n",
        "model = ConcreteModel()\n",
        "\n",
        "# Define variables\n",
        "model.x = Var(range(num_shifts), within=NonNegativeIntegers)  # Number of agents per shift\n",
        "\n",
        "# Objective function: Maximize profit (income - cost)\n",
        "def profit(model):\n",
        "    total_income = sum(call_volume_forecast[i] * income_per_call for i in time_slots)\n",
        "    total_cost = sum(model.x[j] * cost_per_agent for j in range(num_shifts))\n",
        "    return total_income - total_cost\n",
        "\n",
        "model.obj = Objective(rule=profit, sense=maximize)\n",
        "\n",
        "# Constraints\n",
        "def service_level_constraint(model, i):\n",
        "  shift = i // time_slots_per_shift\n",
        "  # Each agent handles one time slot, so the number of agents should be at least the call volume for that time slot\n",
        "  # return model.x[shift] >= call_volume_forecast[i]\n",
        "  return model.x[shift] >= call_volume_forecast[i] / income_per_call\n",
        "\n",
        "\n",
        "def max_agents_constraint(model, j):\n",
        "    return model.x[j] <= max_agents_per_shift\n",
        "\n",
        "def budget_constraint(model):\n",
        "    # return sum(list(model.x) * cost_per_agent) <= total_budget\n",
        "    return sum(model.x[j] * cost_per_agent for j in range(num_shifts)) <= total_budget\n",
        "\n",
        "model.service_level = Constraint(time_slots, rule=service_level_constraint)\n",
        "model.max_agents = Constraint(range(num_shifts), rule=max_agents_constraint)\n",
        "model.budget = Constraint(rule=budget_constraint)\n",
        "\n",
        "# Solve the model using GLPK\n",
        "solver = SolverFactory('glpk')\n",
        "result = solver.solve(model, tee=False)\n",
        "\n",
        "# Check solver status and termination condition\n",
        "if result.solver.status == SolverStatus.ok and result.solver.termination_condition == TerminationCondition.optimal:\n",
        "    print(\"\\nOptimal solution found.\")\n",
        "    # Print results\n",
        "    print(\"\\nOptimal Number of Agents per Shift:\")\n",
        "    for j in range(num_shifts):\n",
        "        print(f\"Shift {j+1}: {model.x[j].value} agents\")\n",
        "\n",
        "    total_cost = sum(cost_per_agent * model.x[j].value for j in range(num_shifts))\n",
        "    total_income = sum(call_volume_forecast[i] * income_per_call for i in time_slots)\n",
        "    profit = total_income - total_cost\n",
        "    print(f\"\\nTotal Staffing Cost: ${total_cost:.2f}\")\n",
        "    print(f\"Total Income: ${total_income:.2f}\")\n",
        "    print(f\"Profit: ${profit:.2f}\")\n",
        "\n",
        "    # Check constraints\n",
        "    service_level_satisfied = all(model.x[i // time_slots_per_shift].value * time_slots_per_shift >= call_volume_forecast[i] for i in time_slots)\n",
        "    budget_satisfied = total_cost <= total_budget\n",
        "    max_agents_satisfied = all(model.x[j].value <= max_agents_per_shift for j in range(num_shifts))\n",
        "\n",
        "    print(\"\\nConstraint Satisfaction:\")\n",
        "    print(f\"Service Level Constraints Satisfied: {service_level_satisfied}\")\n",
        "    print(f\"Budget Constraint Satisfied: {budget_satisfied}\")\n",
        "    print(f\"Max Agents per Shift Constraints Satisfied: {max_agents_satisfied}\")\n",
        "\n",
        "    print(\"\\nSolver Status and Termination Condition:\")\n",
        "    print(f\"Solver Status: {result.solver.status}\")\n",
        "    print(f\"Termination Condition: {result.solver.termination_condition}\")\n",
        "elif result.solver.termination_condition == TerminationCondition.infeasible:\n",
        "    print(\"\\nNo feasible solution found.\")\n",
        "else:\n",
        "    print(\"\\nSolver encountered an issue. Status: \", result.solver.status)\n"
      ],
      "metadata": {
        "colab": {
          "base_uri": "https://localhost:8080/"
        },
        "id": "kfW_3Gy-fx1s",
        "outputId": "aa316550-0e7e-4fa4-9012-6e1f69f3796e"
      },
      "execution_count": 30,
      "outputs": [
        {
          "output_type": "stream",
          "name": "stdout",
          "text": [
            "\n",
            "Optimal solution found.\n",
            "\n",
            "Optimal Number of Agents per Shift:\n",
            "Shift 1: 4.0 agents\n",
            "Shift 2: 4.0 agents\n",
            "Shift 3: 6.0 agents\n",
            "Shift 4: 7.0 agents\n",
            "\n",
            "Total Staffing Cost: $2100.00\n",
            "Total Income: $17475.00\n",
            "Profit: $15375.00\n",
            "\n",
            "Constraint Satisfaction:\n",
            "Service Level Constraints Satisfied: False\n",
            "Budget Constraint Satisfied: True\n",
            "Max Agents per Shift Constraints Satisfied: True\n",
            "\n",
            "Solver Status and Termination Condition:\n",
            "Solver Status: ok\n",
            "Termination Condition: optimal\n"
          ]
        }
      ]
    },
    {
      "cell_type": "markdown",
      "source": [
        "Optimal Number of Agents per Shift:\n",
        "- Shift 1: 5.0 agents\n",
        "- Shift 2: 9.0 agents\n",
        "- Shift 3: 7.0 agents\n",
        "\n",
        "- Total Staffing Cost: $1050.00\n",
        "\n",
        "- Total Income: $9070.00\n",
        "\n",
        "- Profit: $8020.00\n",
        "\n",
        "\n",
        "Optimal Number of Agents per Shift:\n",
        "- Shift 1: 2.0 agents\n",
        "- Shift 2: 3.0 agents\n",
        "- Shift 3: 3.0 agents\n",
        "\n",
        "- Total Staffing Cost: $800.00\n",
        "\n",
        "- Total Income: $27210.00\n",
        "\n",
        "- Profit: $26410.00\n"
      ],
      "metadata": {
        "id": "pyrxOQpLi4tP"
      }
    },
    {
      "cell_type": "code",
      "source": [],
      "metadata": {
        "id": "o68T6lDuuujt"
      },
      "execution_count": 18,
      "outputs": []
    }
  ]
}