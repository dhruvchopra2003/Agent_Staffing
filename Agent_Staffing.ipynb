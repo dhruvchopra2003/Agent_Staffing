{
  "nbformat": 4,
  "nbformat_minor": 0,
  "metadata": {
    "colab": {
      "provenance": []
    },
    "kernelspec": {
      "name": "python3",
      "display_name": "Python 3"
    },
    "language_info": {
      "name": "python"
    }
  },
  "cells": [
    {
      "cell_type": "code",
      "source": [
        "!pip install -q -U pyomo\n",
        "!apt-get install -y -qq glpk-utils"
      ],
      "metadata": {
        "id": "dwwFfLSJbxAX",
        "outputId": "5fdd18ef-0e95-44aa-eff6-782445e33999",
        "colab": {
          "base_uri": "https://localhost:8080/"
        }
      },
      "execution_count": 1,
      "outputs": [
        {
          "output_type": "stream",
          "name": "stdout",
          "text": [
            "\u001b[2K     \u001b[90m━━━━━━━━━━━━━━━━━━━━━━━━━━━━━━━━━━━━━━━━\u001b[0m \u001b[32m12.8/12.8 MB\u001b[0m \u001b[31m46.8 MB/s\u001b[0m eta \u001b[36m0:00:00\u001b[0m\n",
            "\u001b[2K     \u001b[90m━━━━━━━━━━━━━━━━━━━━━━━━━━━━━━━━━━━━━━━━\u001b[0m \u001b[32m49.6/49.6 kB\u001b[0m \u001b[31m4.4 MB/s\u001b[0m eta \u001b[36m0:00:00\u001b[0m\n",
            "\u001b[?25hSelecting previously unselected package libsuitesparseconfig5:amd64.\n",
            "(Reading database ... 123589 files and directories currently installed.)\n",
            "Preparing to unpack .../libsuitesparseconfig5_1%3a5.10.1+dfsg-4build1_amd64.deb ...\n",
            "Unpacking libsuitesparseconfig5:amd64 (1:5.10.1+dfsg-4build1) ...\n",
            "Selecting previously unselected package libamd2:amd64.\n",
            "Preparing to unpack .../libamd2_1%3a5.10.1+dfsg-4build1_amd64.deb ...\n",
            "Unpacking libamd2:amd64 (1:5.10.1+dfsg-4build1) ...\n",
            "Selecting previously unselected package libcolamd2:amd64.\n",
            "Preparing to unpack .../libcolamd2_1%3a5.10.1+dfsg-4build1_amd64.deb ...\n",
            "Unpacking libcolamd2:amd64 (1:5.10.1+dfsg-4build1) ...\n",
            "Selecting previously unselected package libglpk40:amd64.\n",
            "Preparing to unpack .../libglpk40_5.0-1_amd64.deb ...\n",
            "Unpacking libglpk40:amd64 (5.0-1) ...\n",
            "Selecting previously unselected package glpk-utils.\n",
            "Preparing to unpack .../glpk-utils_5.0-1_amd64.deb ...\n",
            "Unpacking glpk-utils (5.0-1) ...\n",
            "Setting up libsuitesparseconfig5:amd64 (1:5.10.1+dfsg-4build1) ...\n",
            "Setting up libamd2:amd64 (1:5.10.1+dfsg-4build1) ...\n",
            "Setting up libcolamd2:amd64 (1:5.10.1+dfsg-4build1) ...\n",
            "Setting up libglpk40:amd64 (5.0-1) ...\n",
            "Setting up glpk-utils (5.0-1) ...\n",
            "Processing triggers for man-db (2.10.2-1) ...\n",
            "Processing triggers for libc-bin (2.35-0ubuntu3.4) ...\n",
            "/sbin/ldconfig.real: /usr/local/lib/libtbbbind.so.3 is not a symbolic link\n",
            "\n",
            "/sbin/ldconfig.real: /usr/local/lib/libtbbbind_2_5.so.3 is not a symbolic link\n",
            "\n",
            "/sbin/ldconfig.real: /usr/local/lib/libtbbmalloc_proxy.so.2 is not a symbolic link\n",
            "\n",
            "/sbin/ldconfig.real: /usr/local/lib/libtbbbind_2_0.so.3 is not a symbolic link\n",
            "\n",
            "/sbin/ldconfig.real: /usr/local/lib/libtbbmalloc.so.2 is not a symbolic link\n",
            "\n",
            "/sbin/ldconfig.real: /usr/local/lib/libtbb.so.12 is not a symbolic link\n",
            "\n"
          ]
        }
      ]
    },
    {
      "cell_type": "code",
      "source": [
        "num_shifts = 3  # Number of shifts in a day\n",
        "time_slots_per_shift = 8\n",
        "time_slots = range(num_shifts * time_slots_per_shift)  # 24 hours in a day\n",
        "call_volume_forecast = [50, 40, 45, 30, 25, 20, 15, 10,\n",
        "                        20, 30, 40, 50, 60, 70, 80, 90,\n",
        "                        0, 10, 1, 1, 40, 50, 60, 70]  # Example forecast\n",
        "cost_per_agent = 100  # $20 per agent per shift\n",
        "max_agents_per_shift = 100  # Maximum number of agents allowed per shift\n",
        "total_budget = 1500\n",
        "income_per_call = 30  # Income generated per call answered\n"
      ],
      "metadata": {
        "id": "WDlSvOG3e0XH"
      },
      "execution_count": 2,
      "outputs": []
    },
    {
      "cell_type": "code",
      "source": [
        "from pyomo.environ import *\n",
        "\n",
        "# Create a model\n",
        "model = ConcreteModel()\n",
        "\n",
        "# Define variables\n",
        "model.x = Var(range(num_shifts), within=NonNegativeIntegers)  # Number of agents per shift\n",
        "\n",
        "# Objective function: Maximize profit (income - cost)\n",
        "def profit(model):\n",
        "    total_income = sum(call_volume_forecast[i] * income_per_call for i in time_slots)\n",
        "    total_cost = sum(model.x[j] * cost_per_agent for j in range(num_shifts))\n",
        "    return total_income - total_cost\n",
        "\n",
        "model.obj = Objective(rule=profit, sense=maximize)\n",
        "\n",
        "# Constraints\n",
        "def service_level_constraint(model, i):\n",
        "  shift = i // time_slots_per_shift\n",
        "  # Each agent handles one time slot, so the number of agents should be at least the call volume for that time slot\n",
        "  # return model.x[shift] >= call_volume_forecast[i]\n",
        "  return model.x[shift] >= call_volume_forecast[i] / income_per_call\n",
        "\n",
        "\n",
        "def max_agents_constraint(model, j):\n",
        "    return model.x[j] <= max_agents_per_shift\n",
        "\n",
        "def budget_constraint(model):\n",
        "    # return sum(list(model.x) * cost_per_agent) <= total_budget\n",
        "    return sum(model.x[j] * cost_per_agent for j in range(num_shifts)) <= total_budget\n",
        "\n",
        "model.service_level = Constraint(time_slots, rule=service_level_constraint)\n",
        "model.max_agents = Constraint(range(num_shifts), rule=max_agents_constraint)\n",
        "model.budget = Constraint(rule=budget_constraint)\n",
        "\n",
        "# Solve the model using GLPK\n",
        "solver = SolverFactory('glpk')\n",
        "result = solver.solve(model, tee=False)\n",
        "\n",
        "# Check solver status and termination condition\n",
        "if result.solver.status == SolverStatus.ok and result.solver.termination_condition == TerminationCondition.optimal:\n",
        "    print(\"\\nOptimal solution found.\")\n",
        "    # Print results\n",
        "    print(\"\\nOptimal Number of Agents per Shift:\")\n",
        "    for j in range(num_shifts):\n",
        "        print(f\"Shift {j+1}: {model.x[j].value} agents\")\n",
        "\n",
        "    total_cost = sum(cost_per_agent * model.x[j].value for j in range(num_shifts))\n",
        "    total_income = sum(call_volume_forecast[i] * income_per_call for i in time_slots)\n",
        "    profit = total_income - total_cost\n",
        "    print(f\"\\nTotal Staffing Cost: ${total_cost:.2f}\")\n",
        "    print(f\"Total Income: ${total_income:.2f}\")\n",
        "    print(f\"Profit: ${profit:.2f}\")\n",
        "\n",
        "    # Check constraints\n",
        "    service_level_satisfied = all(model.x[i // time_slots_per_shift].value * time_slots_per_shift >= call_volume_forecast[i] for i in time_slots)\n",
        "    budget_satisfied = total_cost <= total_budget\n",
        "    max_agents_satisfied = all(model.x[j].value <= max_agents_per_shift for j in range(num_shifts))\n",
        "\n",
        "    print(\"\\nConstraint Satisfaction:\")\n",
        "    print(f\"Service Level Constraints Satisfied: {service_level_satisfied}\")\n",
        "    print(f\"Budget Constraint Satisfied: {budget_satisfied}\")\n",
        "    print(f\"Max Agents per Shift Constraints Satisfied: {max_agents_satisfied}\")\n",
        "\n",
        "    print(\"\\nSolver Status and Termination Condition:\")\n",
        "    print(f\"Solver Status: {result.solver.status}\")\n",
        "    print(f\"Termination Condition: {result.solver.termination_condition}\")\n",
        "elif result.solver.termination_condition == TerminationCondition.infeasible:\n",
        "    print(\"\\nNo feasible solution found.\")\n",
        "else:\n",
        "    print(\"\\nSolver encountered an issue. Status: \", result.solver.status)\n"
      ],
      "metadata": {
        "colab": {
          "base_uri": "https://localhost:8080/"
        },
        "id": "kfW_3Gy-fx1s",
        "outputId": "a000b3f4-f81b-4aab-909f-751282498216"
      },
      "execution_count": 3,
      "outputs": [
        {
          "output_type": "stream",
          "name": "stdout",
          "text": [
            "\n",
            "Optimal solution found.\n",
            "\n",
            "Optimal Number of Agents per Shift:\n",
            "Shift 1: 2.0 agents\n",
            "Shift 2: 3.0 agents\n",
            "Shift 3: 3.0 agents\n",
            "\n",
            "Total Staffing Cost: $800.00\n",
            "Total Income: $27210.00\n",
            "Profit: $26410.00\n",
            "\n",
            "Constraint Satisfaction:\n",
            "Service Level Constraints Satisfied: False\n",
            "Budget Constraint Satisfied: True\n",
            "Max Agents per Shift Constraints Satisfied: True\n",
            "\n",
            "Solver Status and Termination Condition:\n",
            "Solver Status: ok\n",
            "Termination Condition: optimal\n"
          ]
        }
      ]
    },
    {
      "cell_type": "markdown",
      "source": [
        "Optimal Number of Agents per Shift:\n",
        "- Shift 1: 5.0 agents\n",
        "- Shift 2: 9.0 agents\n",
        "- Shift 3: 7.0 agents\n",
        "\n",
        "- Total Staffing Cost: $1050.00\n",
        "\n",
        "- Total Income: $9070.00\n",
        "\n",
        "- Profit: $8020.00\n",
        "\n",
        "\n",
        "Optimal Number of Agents per Shift:\n",
        "- Shift 1: 2.0 agents\n",
        "- Shift 2: 3.0 agents\n",
        "- Shift 3: 3.0 agents\n",
        "\n",
        "- Total Staffing Cost: $800.00\n",
        "\n",
        "- Total Income: $27210.00\n",
        "\n",
        "- Profit: $26410.00\n"
      ],
      "metadata": {
        "id": "pyrxOQpLi4tP"
      }
    },
    {
      "cell_type": "code",
      "source": [
        "type(model.x)"
      ],
      "metadata": {
        "id": "Cb5FeNYpgIs_",
        "outputId": "88a90db6-4b5e-43e5-f205-af152f6f271c",
        "colab": {
          "base_uri": "https://localhost:8080/"
        }
      },
      "execution_count": 15,
      "outputs": [
        {
          "output_type": "execute_result",
          "data": {
            "text/plain": [
              "<pyomo.core.base.var.IndexedVar at 0x7b0cc5eb3e20>"
            ]
          },
          "metadata": {},
          "execution_count": 15
        }
      ]
    },
    {
      "cell_type": "code",
      "source": [
        "print(model.x)"
      ],
      "metadata": {
        "id": "aEgtozOhswzn",
        "outputId": "fcad88ab-fc67-420e-af7d-fae996fddbd6",
        "colab": {
          "base_uri": "https://localhost:8080/"
        }
      },
      "execution_count": 18,
      "outputs": [
        {
          "output_type": "stream",
          "name": "stdout",
          "text": [
            "x\n"
          ]
        }
      ]
    },
    {
      "cell_type": "code",
      "source": [
        "sum(list(model.x)*2)"
      ],
      "metadata": {
        "id": "UdsgSa2jsy3U",
        "outputId": "7dc52725-f985-425e-f405-e7d6b1aead7c",
        "colab": {
          "base_uri": "https://localhost:8080/"
        }
      },
      "execution_count": 23,
      "outputs": [
        {
          "output_type": "execute_result",
          "data": {
            "text/plain": [
              "6"
            ]
          },
          "metadata": {},
          "execution_count": 23
        }
      ]
    },
    {
      "cell_type": "code",
      "source": [
        "print(sum(model.x[j] * 2 for j in range(num_shifts)))"
      ],
      "metadata": {
        "id": "JIPJ9PcktFC1",
        "outputId": "59738372-b194-4465-9338-dbf8df4773f2",
        "colab": {
          "base_uri": "https://localhost:8080/"
        }
      },
      "execution_count": 27,
      "outputs": [
        {
          "output_type": "stream",
          "name": "stdout",
          "text": [
            "2*x[0] + 2*x[1] + 2*x[2]\n"
          ]
        }
      ]
    },
    {
      "cell_type": "code",
      "source": [],
      "metadata": {
        "id": "o68T6lDuuujt"
      },
      "execution_count": null,
      "outputs": []
    }
  ]
}